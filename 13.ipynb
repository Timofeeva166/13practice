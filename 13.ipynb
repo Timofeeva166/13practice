{
  "nbformat": 4,
  "nbformat_minor": 0,
  "metadata": {
    "colab": {
      "provenance": []
    },
    "kernelspec": {
      "name": "python3",
      "display_name": "Python 3"
    },
    "language_info": {
      "name": "python"
    }
  },
  "cells": [
    {
      "cell_type": "markdown",
      "source": [
        "1. Написать функцию выводящую таблицу умножения для заданного пользователем числа"
      ],
      "metadata": {
        "id": "v9G2VLhZxAqc"
      }
    },
    {
      "cell_type": "code",
      "execution_count": null,
      "metadata": {
        "colab": {
          "base_uri": "https://localhost:8080/"
        },
        "id": "O7jB3h5cw8zU",
        "outputId": "212cc7be-6caf-4ee9-a3c6-d10d3f17a61f"
      },
      "outputs": [
        {
          "output_type": "stream",
          "name": "stdout",
          "text": [
            "Введите число:\n",
            "6\n",
            "6x1 = 6\n",
            "6x2 = 12\n",
            "6x3 = 18\n",
            "6x4 = 24\n",
            "6x5 = 30\n",
            "6x6 = 36\n",
            "6x7 = 42\n",
            "6x8 = 48\n",
            "6x9 = 54\n",
            "6x10 = 60\n"
          ]
        }
      ],
      "source": [
        "def table(digit):\n",
        "  return(str(digit) + \"x1 = \"+ str(digit*1) + '\\n' +\n",
        "         str(digit) + \"x2 = \"+ str(digit*2) + '\\n' +\n",
        "         str(digit) + \"x3 = \"+ str(digit*3) + '\\n' +\n",
        "         str(digit) + \"x4 = \"+ str(digit*4) + '\\n' +\n",
        "         str(digit) + \"x5 = \"+ str(digit*5) + '\\n' +\n",
        "         str(digit) + \"x6 = \"+ str(digit*6) + '\\n' +\n",
        "         str(digit) + \"x7 = \"+ str(digit*7) + '\\n' +\n",
        "         str(digit) + \"x8 = \"+ str(digit*8) + '\\n' +\n",
        "         str(digit) + \"x9 = \"+ str(digit*9) + '\\n' +\n",
        "         str(digit) + \"x10 = \"+ str(digit*10))\n",
        "\n",
        "print(\"Введите число:\")\n",
        "print(table(int(input())))"
      ]
    },
    {
      "cell_type": "markdown",
      "source": [
        "2. Напишите функцию, которая будет принимать список чисел и возвращать два числа, абсолютная разность которых минимальна"
      ],
      "metadata": {
        "id": "LHpwlK9wxB5c"
      }
    },
    {
      "cell_type": "code",
      "source": [
        "def minDiff(lst):\n",
        "    lst = sorted(lst)\n",
        "    difference = [lst[i] - lst[i - 1] for i in range(1, len(lst))]\n",
        "    minIndex = difference.index(min(difference))\n",
        "    return (lst[minIndex], lst[minIndex + 1])\n",
        "\n",
        "print(\"Введите числа через пробел\")\n",
        "print(minDiff(list(map(int, input().split(' ')))))"
      ],
      "metadata": {
        "colab": {
          "base_uri": "https://localhost:8080/"
        },
        "id": "wm0-CIX21O5F",
        "outputId": "9d0d7308-ff41-49a3-a91a-e4dd4cdf7538"
      },
      "execution_count": null,
      "outputs": [
        {
          "output_type": "stream",
          "name": "stdout",
          "text": [
            "Введите числа через пробел\n",
            "27 94 71 53 89 20 48 16\n",
            "(16, 20)\n"
          ]
        }
      ]
    },
    {
      "cell_type": "markdown",
      "source": [
        "3. Напишите функцию, которая будет принимать строку и две буквы, после чего осуществлять проверку того, что вторая буква всегда идет после первой"
      ],
      "metadata": {
        "id": "stFBim_8xEYM"
      }
    },
    {
      "cell_type": "code",
      "source": [
        "def stroka(st, letterA, letterB):\n",
        "  st = st.lower()\n",
        "  return st.count(letterA) == st.count(letterA + letterB)\n",
        "\n",
        "print(stroka(\"Я люблю тебя\", 'л', 'ю'))"
      ],
      "metadata": {
        "colab": {
          "base_uri": "https://localhost:8080/"
        },
        "id": "tc05b522xH1-",
        "outputId": "08f85ced-83f2-4513-ef96-2711809fa93f"
      },
      "execution_count": null,
      "outputs": [
        {
          "output_type": "stream",
          "name": "stdout",
          "text": [
            "True\n"
          ]
        }
      ]
    },
    {
      "cell_type": "markdown",
      "source": [
        "4. Напишите функцию которая находит все числа, на которые делится без остатка введенное пользователем число"
      ],
      "metadata": {
        "id": "45LxzYtCxILL"
      }
    },
    {
      "cell_type": "code",
      "source": [
        "def devisibility(num):\n",
        "  lst = []\n",
        "  for i in range(2, num):\n",
        "    if num%i == 0:\n",
        "      lst.append(i)\n",
        "  return(lst)\n",
        "\n",
        "print(devisibility(int(input())))"
      ],
      "metadata": {
        "colab": {
          "base_uri": "https://localhost:8080/"
        },
        "id": "gtOZcJ54xrZ5",
        "outputId": "de39ddb5-772a-487e-e293-fb2d2102840e"
      },
      "execution_count": null,
      "outputs": [
        {
          "output_type": "stream",
          "name": "stdout",
          "text": [
            "586443\n",
            "[3, 11, 13, 33, 39, 143, 429, 1367, 4101, 15037, 17771, 45111, 53313, 195481]\n"
          ]
        }
      ]
    },
    {
      "cell_type": "markdown",
      "source": [
        "Написать функцию осуществляющую сложение двух квадратных матриц"
      ],
      "metadata": {
        "id": "jB0wZbhP-67C"
      }
    },
    {
      "cell_type": "code",
      "source": [
        "import random\n",
        "import numpy as np\n",
        "\n",
        "def sumMatrix(matr1, matr2, size):\n",
        "  result = np.random.randint(1, size = (size, size))\n",
        "  for i in range(0, size):\n",
        "    for j in range (0, size):\n",
        "      result[i][j] = matr1[i][j] + matr2[i][j]\n",
        "  return(result)\n",
        "\n",
        "print(\"Введите размер матрицы\")\n",
        "size = int(input())\n",
        "matr1 = np.random.randint(low = -100, high = 100, size = (size, size))\n",
        "matr2 = np.random.randint(low = -100, high = 100, size = (size, size))\n",
        "\n",
        "print('\\n' + str(matr1) + '\\n')\n",
        "print(str(matr2) + '\\n')\n",
        "print(sumMatrix(matr1, matr2, size))"
      ],
      "metadata": {
        "colab": {
          "base_uri": "https://localhost:8080/"
        },
        "id": "htVxJxJ6_X4R",
        "outputId": "dade25a2-9e9f-4a15-8846-197dc804ca9d"
      },
      "execution_count": null,
      "outputs": [
        {
          "output_type": "stream",
          "name": "stdout",
          "text": [
            "Введите размер матрицы\n",
            "4\n",
            "\n",
            "[[-69 -90 -94  -5]\n",
            " [ 89 -42  19  89]\n",
            " [ -3  55  10 -48]\n",
            " [-73 -90 -95  76]]\n",
            "\n",
            "[[ 91 -30  -2  19]\n",
            " [ 76 -30 -69 -57]\n",
            " [ 66  86 -37  12]\n",
            " [ 30 -40  92 -15]]\n",
            "\n",
            "[[  22 -120  -96   14]\n",
            " [ 165  -72  -50   32]\n",
            " [  63  141  -27  -36]\n",
            " [ -43 -130   -3   61]]\n"
          ]
        }
      ]
    },
    {
      "cell_type": "markdown",
      "source": [
        "6. Написать функцию осуществляющую транспонирование матрицы"
      ],
      "metadata": {
        "id": "m9SDNtEyD0oj"
      }
    },
    {
      "cell_type": "code",
      "source": [
        "import random\n",
        "import numpy as np\n",
        "\n",
        "def sumMatrix(matr, size):\n",
        "  result = np.random.randint(1, size = (size, size))\n",
        "  for i in range(0, size):\n",
        "    for j in range (0, size):\n",
        "      result[i][j] = matr[j][i]\n",
        "  return(result)\n",
        "\n",
        "print(\"Введите размер матрицы\")\n",
        "size = int(input())\n",
        "matr = np.random.randint(low = -100, high = 100, size = (size, size))\n",
        "\n",
        "print('\\n' + str(matr) + '\\n')\n",
        "print(sumMatrix(matr, size))"
      ],
      "metadata": {
        "colab": {
          "base_uri": "https://localhost:8080/"
        },
        "id": "0_8woBHsD1WB",
        "outputId": "a0985ab1-b25e-45d7-c04b-be1cbe6ed01a"
      },
      "execution_count": null,
      "outputs": [
        {
          "output_type": "stream",
          "name": "stdout",
          "text": [
            "Введите размер матрицы\n",
            "4\n",
            "\n",
            "[[ 81 -94 -51 -43]\n",
            " [-53 -73  33 -27]\n",
            " [ 13  21  19  51]\n",
            " [ 53 -59  42  17]]\n",
            "\n",
            "[[ 81 -53  13  53]\n",
            " [-94 -73  21 -59]\n",
            " [-51  33  19  42]\n",
            " [-43 -27  51  17]]\n"
          ]
        }
      ]
    }
  ]
}